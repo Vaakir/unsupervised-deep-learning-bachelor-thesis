{
 "cells": [
  {
   "cell_type": "markdown",
   "id": "19c9743c",
   "metadata": {},
   "source": [
    "### TRAINING MODELS"
   ]
  },
  {
   "cell_type": "code",
   "execution_count": null,
   "id": "139b02b9",
   "metadata": {},
   "outputs": [],
   "source": [
    "# IMPORT EVERYTHING\n",
    "from Architectures.AE_ADJ_v2 import AE\n",
    "\n",
    "from Data.load import load, load_middle_slices\n",
    "from Visualizations.latent_space_projections import plot_multiple_datasets\n",
    "from Visualizations.plots import plot_middle_slices_in_range, plot_models_training_time, compare_models_loss_history, plot_images, compare_models_reconstruction\n",
    "from Metrics.metrics_tf import MSE_loss, NMSE_loss, NRMSE_loss, SSIM_loss\n",
    "from Metrics.metrics import NMSE, SSIM, NRMSE, MSE\n",
    "\n",
    "from keras.utils import to_categorical\n",
    "from keras.models import Sequential\n",
    "from keras.layers import Dense, Flatten, Conv2D, MaxPooling2D, Input\n",
    "\n",
    "from sklearn.model_selection import train_test_split\n",
    "from sklearn.metrics import confusion_matrix, classification_report\n",
    "from sklearn.decomposition import PCA\n",
    "from sklearn.manifold import Isomap, TSNE\n",
    "from sklearn.preprocessing import StandardScaler\n",
    "\n",
    "from tensorflow.keras import layers, Model, activations, regularizers\n",
    "from tensorflow.keras.optimizers import Adam\n",
    "import tensorflow.keras.backend as K\n",
    "\n",
    "from skimage.metrics import structural_similarity as ssim\n",
    "\n",
    "import umap\n",
    "import matplotlib.pyplot as plt\n",
    "import numpy as np\n",
    "import os\n",
    "import cv2\n",
    "import pandas as pd\n",
    "import seaborn as sns\n",
    "import glob\n",
    "import tensorflow as tf\n",
    "import time\n",
    "import math\n",
    "import nibabel as nib\n",
    "import json\n",
    "from tqdm import tqdm"
   ]
  },
  {
   "cell_type": "code",
   "execution_count": 2,
   "id": "fc0b19c2",
   "metadata": {},
   "outputs": [
    {
     "name": "stderr",
     "output_type": "stream",
     "text": [
      "Opening faster: 100%|██████████| 3/3 [00:07<00:00,  2.57s/it]\n"
     ]
    }
   ],
   "source": [
    "#groups = {}\n",
    "groups3D = {}\n",
    "for group in tqdm([\"CN\",\"MCI\",\"AD\"],\"Opening faster\"):\n",
    "    #groups[group]=np.load(open(f\"Data/D2-{group}.npy\",\"rb\"))\n",
    "    groups3D[group]=np.load(open(f\"Data/D3-{group}.npy\",\"rb\"))"
   ]
  },
  {
   "cell_type": "code",
   "execution_count": null,
   "id": "94691488",
   "metadata": {},
   "outputs": [],
   "source": []
  },
  {
   "cell_type": "code",
   "execution_count": 3,
   "id": "574c1f42",
   "metadata": {},
   "outputs": [
    {
     "name": "stdout",
     "output_type": "stream",
     "text": [
      "Interpreted image shape: (80, 96, 80, 1) Pre-flattened latent shape: (None, 20, 24, 20, 128)\n"
     ]
    }
   ],
   "source": [
    "\"\"\"\n",
    "A2 = AE(name=\"A2\", input_shape=groups[\"CN\"].shape, latent_dim=16,\n",
    "    encoder_layers=[\n",
    "        (layers.Conv2D, 16, (3,3), {'strides': 2, 'padding': 'same', 'activation': 'leaky_relu'}),\n",
    "        (layers.Conv2D, 32, (3,3), {'strides': 2, 'padding': 'same', 'activation': 'leaky_relu'}),\n",
    "    ],\n",
    "    decoder_layers=[\n",
    "        (layers.Conv2D, 32, (3,3), {'padding': 'same'}), (layers.UpSampling2D, (2,2)),\n",
    "        (layers.Conv2D, 16, (3,3), {'padding': 'same'}), (layers.UpSampling2D, (2,2)),\n",
    "        (layers.Conv2D, 1, (3,3), {'padding': 'same'}),\n",
    "    ], VAE_model=False, optimizer=\"adam\", loss_fn=\"mse\").compile_model()\n",
    "\"\"\"\n",
    "\n",
    "\"\"\"\n",
    "public_repo_mse_2d = AE(name=\"public_repo_2D_mse\", input_shape=groups[\"CN\"].shape, latent_dim=128,\n",
    "    encoder_layers=[\n",
    "        (layers.Conv2D, 32, (3, 3), {'activation': 'relu', 'padding': 'same'}), layers.BatchNormalization(),\n",
    "        (layers.Conv2D, 32, (3, 3), {'activation': 'relu', 'padding': 'same'}), layers.BatchNormalization(), (layers.MaxPooling2D, {'pool_size': (2, 2)}),\n",
    "        (layers.Conv2D, 64, (3, 3), {'activation': 'relu', 'padding': 'same'}), layers.BatchNormalization(),\n",
    "        (layers.Conv2D, 64, (3, 3), {'activation': 'relu', 'padding': 'same'}), layers.BatchNormalization(), (layers.MaxPooling2D, {'pool_size': (2, 2)}),\n",
    "        (layers.Conv2D, 128, (3, 3), {'activation': 'relu', 'padding': 'same'}), layers.BatchNormalization(),\n",
    "        (layers.Conv2D, 128, (3, 3), {'activation': 'relu', 'padding': 'same'}), layers.BatchNormalization()\n",
    "    ],\n",
    "    decoder_layers=[\n",
    "        (layers.Conv2D, 64, (3, 3), {'activation': 'relu', 'padding': 'same'}), layers.BatchNormalization(),\n",
    "        (layers.Conv2D, 64, (3, 3), {'activation': 'relu', 'padding': 'same'}), layers.BatchNormalization(), (layers.UpSampling2D, {'size': (2, 2)}),\n",
    "        (layers.Conv2D, 32, (3, 3), {'activation': 'relu', 'padding': 'same'}), layers.BatchNormalization(),\n",
    "        (layers.Conv2D, 32, (3, 3), {'activation': 'relu', 'padding': 'same'}), layers.BatchNormalization(), (layers.UpSampling2D, {'size': (2, 2)}),\n",
    "        (layers.Conv2D, 1,  (3, 3), {'activation': 'sigmoid','padding': 'same',}),\n",
    "    ],\n",
    "    VAE_model=False, optimizer=\"adam\", loss_fn=MSE_loss).compile_model()\n",
    "\n",
    "public_repo_ssim_2d = AE(name=\"public_repo_2D_ssim\", input_shape=groups[\"CN\"].shape, latent_dim=128,\n",
    "    encoder_layers=[\n",
    "        (layers.Conv2D, 32, (3, 3), {'activation': 'relu', 'padding': 'same'}), layers.BatchNormalization(),\n",
    "        (layers.Conv2D, 32, (3, 3), {'activation': 'relu', 'padding': 'same'}), layers.BatchNormalization(), (layers.MaxPooling2D, {'pool_size': (2, 2)}),\n",
    "        (layers.Conv2D, 64, (3, 3), {'activation': 'relu', 'padding': 'same'}), layers.BatchNormalization(),\n",
    "        (layers.Conv2D, 64, (3, 3), {'activation': 'relu', 'padding': 'same'}), layers.BatchNormalization(), (layers.MaxPooling2D, {'pool_size': (2, 2)}),\n",
    "        (layers.Conv2D, 128, (3, 3), {'activation': 'relu', 'padding': 'same'}), layers.BatchNormalization(),\n",
    "        (layers.Conv2D, 128, (3, 3), {'activation': 'relu', 'padding': 'same'}), layers.BatchNormalization()\n",
    "    ],\n",
    "    decoder_layers=[\n",
    "        (layers.Conv2D, 64, (3, 3), {'activation': 'relu', 'padding': 'same'}), layers.BatchNormalization(),\n",
    "        (layers.Conv2D, 64, (3, 3), {'activation': 'relu', 'padding': 'same'}), layers.BatchNormalization(), (layers.UpSampling2D, {'size': (2, 2)}),\n",
    "        (layers.Conv2D, 32, (3, 3), {'activation': 'relu', 'padding': 'same'}), layers.BatchNormalization(),\n",
    "        (layers.Conv2D, 32, (3, 3), {'activation': 'relu', 'padding': 'same'}), layers.BatchNormalization(), (layers.UpSampling2D, {'size': (2, 2)}),\n",
    "        (layers.Conv2D, 1,  (3, 3), {'activation': 'sigmoid','padding': 'same',}),\n",
    "    ],\n",
    "    VAE_model=False, optimizer=\"adam\", loss_fn=SSIM_loss).compile_model()\n",
    "\"\"\"\n",
    "\n",
    "public_repo_3d = AE(name=\"public_repo_autoencoder_3D_mse\", input_shape=groups3D[\"CN\"].shape, latent_dim=16,\n",
    "    encoder_layers=[\n",
    "        (layers.Conv3D, 32, (3, 3,3), {'activation': 'relu', 'padding': 'same'}), layers.BatchNormalization(),\n",
    "        (layers.Conv3D, 32, (3, 3,3), {'activation': 'relu', 'padding': 'same'}), layers.BatchNormalization(), (layers.MaxPooling3D, {'pool_size': (2, 2, 2)}),\n",
    "        (layers.Conv3D, 64, (3, 3,3), {'activation': 'relu', 'padding': 'same'}), layers.BatchNormalization(),\n",
    "        (layers.Conv3D, 64, (3, 3,3), {'activation': 'relu', 'padding': 'same'}), layers.BatchNormalization(), (layers.MaxPooling3D, {'pool_size': (2, 2, 2)}),\n",
    "        (layers.Conv3D, 128, (3, 3, 3), {'activation': 'relu', 'padding': 'same'}), layers.BatchNormalization(),\n",
    "        (layers.Conv3D, 128, (3, 3, 3), {'activation': 'relu', 'padding': 'same'}), layers.BatchNormalization()\n",
    "    ],\n",
    "    decoder_layers=[\n",
    "        (layers.Conv3D, 64, (3, 3, 3), {'activation': 'relu', 'padding': 'same'}), layers.BatchNormalization(),\n",
    "        (layers.Conv3D, 64, (3, 3, 3), {'activation': 'relu', 'padding': 'same'}), layers.BatchNormalization(), (layers.UpSampling3D, {'size': (2, 2, 2)}),\n",
    "        (layers.Conv3D, 32, (3, 3, 3), {'activation': 'relu', 'padding': 'same'}), layers.BatchNormalization(),\n",
    "        (layers.Conv3D, 32, (3, 3, 3), {'activation': 'relu', 'padding': 'same'}), layers.BatchNormalization(), (layers.UpSampling3D, {'size': (2, 2, 2)}),\n",
    "        (layers.Conv3D, 1,  (3, 3, 3), {'activation': 'sigmoid','padding': 'same',}),\n",
    "    ],\n",
    "    VAE_model=False, optimizer=\"adam\", loss_fn=MSE_loss).compile_model()\n"
   ]
  },
  {
   "cell_type": "code",
   "execution_count": null,
   "id": "e0556c38",
   "metadata": {},
   "outputs": [
    {
     "name": "stdout",
     "output_type": "stream",
     "text": [
      "Training public_repo_autoencoder_3D_mse on CPU\n",
      "Input shape: (988, 80, 96, 80)\n",
      "\u001b[1m50/50\u001b[0m \u001b[32m━━━━━━━━━━━━━━━━━━━━\u001b[0m\u001b[37m\u001b[0m \u001b[1m808s\u001b[0m 16s/step - loss: 0.0540 - val_loss: 0.0063\n",
      "\u001b[1m 6/50\u001b[0m \u001b[32m━━\u001b[0m\u001b[37m━━━━━━━━━━━━━━━━━━\u001b[0m \u001b[1m11:21\u001b[0m 15s/step - loss: 0.0075"
     ]
    }
   ],
   "source": [
    "for m in [public_repo_3d]: #[A2,A4,A5]\n",
    "    m.train(groups3D[\"CN\"], epochs=2, batch_size=8, verbose=True, \n",
    "    save_path=r\"C:\\Users\\kiran\\Documents\\_UIS\\sem6\\BACH\\DementiaMRI\\AE_ADJ_models\\newer_images\", \n",
    "    save_interval=1000, patience=30)"
   ]
  },
  {
   "cell_type": "code",
   "execution_count": null,
   "id": "f01c036c",
   "metadata": {},
   "outputs": [
    {
     "name": "stdout",
     "output_type": "stream",
     "text": [
      "Models loaded successfully.\n"
     ]
    }
   ],
   "source": [
    "# Test to see if loading works\n",
    "# models_list = [AE.open(r\"C:\\Users\\kiran\\Documents\\_UIS\\sem6\\BACH\\DementiaMRI\\AE_ADJ_models\\newer_images\\public_repo\\epoch_9\")]"
   ]
  }
 ],
 "metadata": {
  "kernelspec": {
   "display_name": "base",
   "language": "python",
   "name": "python3"
  },
  "language_info": {
   "codemirror_mode": {
    "name": "ipython",
    "version": 3
   },
   "file_extension": ".py",
   "mimetype": "text/x-python",
   "name": "python",
   "nbconvert_exporter": "python",
   "pygments_lexer": "ipython3",
   "version": "3.12.7"
  }
 },
 "nbformat": 4,
 "nbformat_minor": 5
}
