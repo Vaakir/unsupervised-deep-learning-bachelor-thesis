{
 "cells": [
  {
   "cell_type": "markdown",
   "metadata": {},
   "source": [
    "### EASILY CUSTOMIZABLE AUTOENCODERS\n",
    "- 6. feb. 2025\n",
    "#### Will be moved to **architectures** once finished"
   ]
  },
  {
   "cell_type": "code",
   "execution_count": 219,
   "metadata": {},
   "outputs": [],
   "source": [
    "# from ...DementiaMRI.Architectures.VAE import VAE\n",
    "from Data.load import load\n",
    "import matplotlib.pyplot as plt\n",
    "import numpy as np\n",
    "import os\n",
    "import cv2\n",
    "import matplotlib.pyplot as plt\n",
    "import pandas as pd\n",
    "import seaborn as sns\n",
    "\n",
    "from keras.utils import to_categorical\n",
    "from keras.models import Sequential\n",
    "from keras.layers import Dense, Flatten, Conv2D, MaxPooling2D, Input\n",
    "\n",
    "from sklearn.model_selection import train_test_split\n",
    "from sklearn.metrics import confusion_matrix, classification_report\n",
    "\n",
    "\n",
    "import tensorflow as tf\n",
    "from tensorflow.keras import layers, Model, models, Input, activations, regularizers\n",
    "import tensorflow.keras.backend as K\n",
    "\n",
    "import time"
   ]
  },
  {
   "cell_type": "code",
   "execution_count": 141,
   "metadata": {},
   "outputs": [],
   "source": [
    "# WILL MOST LIKELY BE ADDED LATER\n",
    "\n",
    "# Conv Block\n",
    "class ConvBlock(tf.keras.layers.Layer):\n",
    "    def __init__(self, ch_in, ch_out, k_size, stride=1, p=1, num_groups=1):\n",
    "        super(ConvBlock, self).__init__()\n",
    "        self.conv = models.Sequential([\n",
    "            layers.Conv3D(ch_out, kernel_size=k_size, strides=stride, padding='same'),\n",
    "            layers.BatchNormalization(),\n",
    "            layers.ReLU()\n",
    "        ])\n",
    "\n",
    "    def call(self, x):\n",
    "        return self.conv(x)\n",
    "\n",
    "# ResNet Block\n",
    "class ResNetBlock(tf.keras.layers.Layer):\n",
    "    def __init__(self, ch, k_size, stride=1, p=1, num_groups=1):\n",
    "        super(ResNetBlock, self).__init__()\n",
    "        self.conv = models.Sequential([\n",
    "            layers.Conv3D(ch, kernel_size=k_size, strides=stride, padding='same'),\n",
    "            layers.BatchNormalization(),\n",
    "            layers.ReLU(),\n",
    "            layers.Conv3D(ch, kernel_size=k_size, strides=stride, padding='same'),\n",
    "            layers.BatchNormalization(),\n",
    "            layers.ReLU(),\n",
    "        ])\n",
    "\n",
    "    def call(self, x):\n",
    "        return self.conv(x) + x # look skip connections, ayooo!\n",
    "\n",
    "# Up-conv Layer\n",
    "class UpConv(tf.keras.layers.Layer):\n",
    "    def __init__(self, ch_in, ch_out, k_size=1, scale=2, align_corners=False):\n",
    "        super(UpConv, self).__init__()\n",
    "        self.up = models.Sequential([\n",
    "            layers.Conv3D(ch_out, kernel_size=k_size),\n",
    "            layers.UpSampling3D(size=(scale, scale, scale))\n",
    "        ])\n",
    "\n",
    "    def call(self, x):\n",
    "        return self.up(x)"
   ]
  },
  {
   "cell_type": "markdown",
   "metadata": {},
   "source": [
    "#### LOADING THE DATA"
   ]
  },
  {
   "cell_type": "code",
   "execution_count": 176,
   "metadata": {},
   "outputs": [
    {
     "name": "stderr",
     "output_type": "stream",
     "text": [
      "Loading images: 100%|██████████| 30/30 [00:09<00:00,  3.13it/s]"
     ]
    },
    {
     "name": "stdout",
     "output_type": "stream",
     "text": [
      "(24, 80, 96, 80) (6, 80, 96, 80)\n"
     ]
    },
    {
     "name": "stderr",
     "output_type": "stream",
     "text": [
      "\n"
     ]
    }
   ],
   "source": [
    "train, test = load(take=30, train_test_split=0.8)\n",
    "print(train.shape, test.shape)"
   ]
  },
  {
   "cell_type": "code",
   "execution_count": 220,
   "metadata": {},
   "outputs": [],
   "source": [
    "class AE(Model):\n",
    "    def __init__(self, \n",
    "                input_shape, \n",
    "                latent_dim, \n",
    "                encoder_layers, \n",
    "                decoder_layers, \n",
    "                name=\"AE\", \n",
    "                debug=False):\n",
    "        \n",
    "        super(AE, self).__init__(name=name)\n",
    "        self.input_shape = input_shape\n",
    "        self.latent_dim = latent_dim\n",
    "        self.encoder_layers = encoder_layers\n",
    "        self.decoder_layers = decoder_layers\n",
    "        self.history = None\n",
    "        self.debug = debug\n",
    "        self.compile_model()\n",
    "    \n",
    "    def compile_model(self):\n",
    "        \"\"\"\n",
    "        Compile the model by iterating through the provided layers and adding them to the Functional API model.\n",
    "        \"\"\"\n",
    "        shape_changed=False\n",
    "        if self.input_shape[-1]>3:\n",
    "            self.input_shape = list(self.input_shape) + [1]\n",
    "            shape_changed=True\n",
    "        if len(self.input_shape)>4:\n",
    "            self.input_shape = self.input_shape[-4:]\n",
    "            shape_changed=True\n",
    "        if shape_changed:\n",
    "            print(f\"Interpreted image shape: {tuple(self.input_shape)}\")\n",
    "\n",
    "\n",
    "        # 1. Build the encoder model\n",
    "        input_layer = x = Input(shape=self.input_shape, name=\"input\")  # Input shape from the first encoder layer tuple\n",
    "        \n",
    "        # - Add encoder layers\n",
    "        for layer in self.encoder_layers:\n",
    "            if isinstance(layer, tuple):\n",
    "                layer_type, *layer_args = layer\n",
    "                layer_kwargs = layer_args.pop() if isinstance(layer_args[-1], dict) else {}\n",
    "                x = layer_type(*layer_args, **layer_kwargs)(x)\n",
    "            else:\n",
    "                x = layer(x)\n",
    "            \n",
    "            print(f\"After {x.shape}: {layer}\") if self.debug else None\n",
    "\n",
    "\n",
    "        # - Flatten the latent space (encoding output)\n",
    "        print(f\"Pre-flattened latent shape: {x.shape}\")\n",
    "        pre_flatten_shape = x.shape\n",
    "        x = layers.Flatten()(x)\n",
    "        x = layers.Dense(self.latent_dim, activation=\"relu\")(x)  # kernel_regularizer=regularizers.l1(l1_lambda))(x)\n",
    "        self.encoder = Model(input_layer, x, name=\"encoder\")\n",
    "\n",
    "        # 2. Build the decoder model\n",
    "        latent_input = x = layers.Input(shape=x.shape[1:]) # Adjusted latent space shape\n",
    "        \n",
    "        # - Reshape back to 3D\n",
    "        x = layers.Dense(\n",
    "            pre_flatten_shape[1] * pre_flatten_shape[2] * pre_flatten_shape[3] * pre_flatten_shape[4],\n",
    "            activation=\"relu\",\n",
    "            # kernel_regularizer=regularizers.l1(l1_lambda)\n",
    "        )(latent_input)\n",
    "        x = layers.Reshape(pre_flatten_shape[1:])(x)\n",
    "\n",
    "        for layer in self.decoder_layers:\n",
    "            if isinstance(layer, tuple):\n",
    "                layer_type, *layer_args = layer\n",
    "                layer_kwargs = layer_args.pop() if isinstance(layer_args[-1], dict) else {}\n",
    "                x = layer_type(*layer_args, **layer_kwargs)(x)  # Apply layer\n",
    "            else:\n",
    "                x = layer(x)\n",
    "\n",
    "        #decoded = layers.Conv3D(1, (3, 3, 3), padding=\"same\")(x) #activation=output_activation\n",
    "        self.decoder = Model(latent_input, x, name=\"decoder\")\n",
    "\n",
    "        # 3. Combine the encoder and decoder into a full autoencoder\n",
    "        autoencoder_output = self.decoder(self.encoder(input_layer))\n",
    "        self.autoencoder = Model(input_layer, autoencoder_output, name=\"autoencoder\")\n",
    "        self.autoencoder.compile(optimizer='adam', loss='mse') #metrics=['accuracy']\n",
    "\n",
    "    def summary(self):\n",
    "        \"\"\"\n",
    "        Print a summary of the neural network model.\n",
    "        \n",
    "        Raises:\n",
    "            ValueError: If the model is not compiled yet.\n",
    "        \"\"\"\n",
    "        if self.autoencoder is None:\n",
    "            raise ValueError(\"The model is not compiled yet. Call `compile_model()` first.\")\n",
    "        self.autoencoder.summary()\n",
    "    \n",
    "    def train(self, x_train, epochs=2, batch_size=16, verbose=False):\n",
    "        start_time = time.time()\n",
    "        self.history = self.autoencoder.fit(\n",
    "            x_train, x_train,\n",
    "            epochs=epochs,\n",
    "            batch_size=batch_size,\n",
    "            shuffle=True,\n",
    "            validation_split=0.2,\n",
    "            verbose=verbose\n",
    "        )\n",
    "        self.training_time = time.time() - start_time\n",
    "        return self.history\n",
    "\n",
    "    def plot_evaluation(self):\n",
    "        \"\"\"\n",
    "        Plot the training and validation accuracy/loss over epochs using training logs.\n",
    "        \"\"\"\n",
    "        pd.DataFrame(self.history.history).plot(figsize=(8, 5))\n",
    "        plt.ylabel(\"\")\n",
    "        plt.xlabel(\"Epoch\")\n",
    "        plt.grid(True)\n",
    "        plt.show()\n",
    "\n",
    "    def encode(self, x):\n",
    "        \"\"\"Encode input data x into its latent space representation.\"\"\"\n",
    "        return self.encoder.predict(x)\n",
    "\n",
    "    def decode(self, y):\n",
    "        \"\"\"Decode latent space representation y into the original data space.\"\"\"\n",
    "        return self.decoder.predict(y)\n",
    "    \n",
    "    def save(self, path):\n",
    "        \"\"\"Save the autoencoder, encoder, and decoder models to disk.\"\"\"\n",
    "        os.makedirs(path, exist_ok=True)\n",
    "        self.autoencoder.save(os.path.join(path, \"autoencoder.keras\"))\n",
    "        self.encoder.save(os.path.join(path, \"encoder.keras\"))\n",
    "        self.decoder.save(os.path.join(path, \"decoder.keras\"))\n",
    "        print(f\"Models saved to {path}\")\n",
    "    \n",
    "    @staticmethod\n",
    "    def open(path):\n",
    "        \"\"\"Load the autoencoder, encoder, and decoder models from disk.\"\"\"\n",
    "        autoencoder = tf.keras.models.load_model(os.path.join(path, \"autoencoder.keras\"))\n",
    "        encoder = tf.keras.models.load_model(os.path.join(path, \"encoder.keras\"))\n",
    "        decoder = tf.keras.models.load_model(os.path.join(path, \"decoder.keras\"))\n",
    "\n",
    "        # Create an instance of AE without initializing models\n",
    "        ae = AE.__new__(AE)\n",
    "        ae.autoencoder = autoencoder\n",
    "        ae.encoder = encoder\n",
    "        ae.decoder = decoder\n",
    "\n",
    "        # Compile the loaded model manually\n",
    "        ae.autoencoder.compile(loss='mean_squared_error', optimizer='adam')\n",
    "\n",
    "        print(\"Models loaded and compiled successfully.\")\n",
    "        return ae\n"
   ]
  },
  {
   "cell_type": "code",
   "execution_count": 260,
   "metadata": {},
   "outputs": [
    {
     "name": "stdout",
     "output_type": "stream",
     "text": [
      "Interpreted image shape: (80, 96, 80, 1)\n",
      "Pre-flattened latent shape: (None, 5, 6, 5, 64)\n",
      "Interpreted image shape: (80, 96, 80, 1)\n",
      "Pre-flattened latent shape: (None, 5, 6, 5, 64)\n"
     ]
    },
    {
     "data": {
      "text/html": [
       "<pre style=\"white-space:pre;overflow-x:auto;line-height:normal;font-family:Menlo,'DejaVu Sans Mono',consolas,'Courier New',monospace\"><span style=\"font-weight: bold\">Model: \"autoencoder\"</span>\n",
       "</pre>\n"
      ],
      "text/plain": [
       "\u001b[1mModel: \"autoencoder\"\u001b[0m\n"
      ]
     },
     "metadata": {},
     "output_type": "display_data"
    },
    {
     "data": {
      "text/html": [
       "<pre style=\"white-space:pre;overflow-x:auto;line-height:normal;font-family:Menlo,'DejaVu Sans Mono',consolas,'Courier New',monospace\">┏━━━━━━━━━━━━━━━━━━━━━━━━━━━━━━━━━┳━━━━━━━━━━━━━━━━━━━━━━━━┳━━━━━━━━━━━━━━━┓\n",
       "┃<span style=\"font-weight: bold\"> Layer (type)                    </span>┃<span style=\"font-weight: bold\"> Output Shape           </span>┃<span style=\"font-weight: bold\">       Param # </span>┃\n",
       "┡━━━━━━━━━━━━━━━━━━━━━━━━━━━━━━━━━╇━━━━━━━━━━━━━━━━━━━━━━━━╇━━━━━━━━━━━━━━━┩\n",
       "│ input (<span style=\"color: #0087ff; text-decoration-color: #0087ff\">InputLayer</span>)              │ (<span style=\"color: #00d7ff; text-decoration-color: #00d7ff\">None</span>, <span style=\"color: #00af00; text-decoration-color: #00af00\">80</span>, <span style=\"color: #00af00; text-decoration-color: #00af00\">96</span>, <span style=\"color: #00af00; text-decoration-color: #00af00\">80</span>, <span style=\"color: #00af00; text-decoration-color: #00af00\">1</span>)  │             <span style=\"color: #00af00; text-decoration-color: #00af00\">0</span> │\n",
       "├─────────────────────────────────┼────────────────────────┼───────────────┤\n",
       "│ encoder (<span style=\"color: #0087ff; text-decoration-color: #0087ff\">Functional</span>)            │ (<span style=\"color: #00d7ff; text-decoration-color: #00d7ff\">None</span>, <span style=\"color: #00af00; text-decoration-color: #00af00\">128</span>)            │     <span style=\"color: #00af00; text-decoration-color: #00af00\">1,301,840</span> │\n",
       "├─────────────────────────────────┼────────────────────────┼───────────────┤\n",
       "│ decoder (<span style=\"color: #0087ff; text-decoration-color: #0087ff\">Functional</span>)            │ (<span style=\"color: #00d7ff; text-decoration-color: #00d7ff\">None</span>, <span style=\"color: #00af00; text-decoration-color: #00af00\">80</span>, <span style=\"color: #00af00; text-decoration-color: #00af00\">96</span>, <span style=\"color: #00af00; text-decoration-color: #00af00\">80</span>, <span style=\"color: #00af00; text-decoration-color: #00af00\">1</span>)  │     <span style=\"color: #00af00; text-decoration-color: #00af00\">1,421,905</span> │\n",
       "└─────────────────────────────────┴────────────────────────┴───────────────┘\n",
       "</pre>\n"
      ],
      "text/plain": [
       "┏━━━━━━━━━━━━━━━━━━━━━━━━━━━━━━━━━┳━━━━━━━━━━━━━━━━━━━━━━━━┳━━━━━━━━━━━━━━━┓\n",
       "┃\u001b[1m \u001b[0m\u001b[1mLayer (type)                   \u001b[0m\u001b[1m \u001b[0m┃\u001b[1m \u001b[0m\u001b[1mOutput Shape          \u001b[0m\u001b[1m \u001b[0m┃\u001b[1m \u001b[0m\u001b[1m      Param #\u001b[0m\u001b[1m \u001b[0m┃\n",
       "┡━━━━━━━━━━━━━━━━━━━━━━━━━━━━━━━━━╇━━━━━━━━━━━━━━━━━━━━━━━━╇━━━━━━━━━━━━━━━┩\n",
       "│ input (\u001b[38;5;33mInputLayer\u001b[0m)              │ (\u001b[38;5;45mNone\u001b[0m, \u001b[38;5;34m80\u001b[0m, \u001b[38;5;34m96\u001b[0m, \u001b[38;5;34m80\u001b[0m, \u001b[38;5;34m1\u001b[0m)  │             \u001b[38;5;34m0\u001b[0m │\n",
       "├─────────────────────────────────┼────────────────────────┼───────────────┤\n",
       "│ encoder (\u001b[38;5;33mFunctional\u001b[0m)            │ (\u001b[38;5;45mNone\u001b[0m, \u001b[38;5;34m128\u001b[0m)            │     \u001b[38;5;34m1,301,840\u001b[0m │\n",
       "├─────────────────────────────────┼────────────────────────┼───────────────┤\n",
       "│ decoder (\u001b[38;5;33mFunctional\u001b[0m)            │ (\u001b[38;5;45mNone\u001b[0m, \u001b[38;5;34m80\u001b[0m, \u001b[38;5;34m96\u001b[0m, \u001b[38;5;34m80\u001b[0m, \u001b[38;5;34m1\u001b[0m)  │     \u001b[38;5;34m1,421,905\u001b[0m │\n",
       "└─────────────────────────────────┴────────────────────────┴───────────────┘\n"
      ]
     },
     "metadata": {},
     "output_type": "display_data"
    },
    {
     "data": {
      "text/html": [
       "<pre style=\"white-space:pre;overflow-x:auto;line-height:normal;font-family:Menlo,'DejaVu Sans Mono',consolas,'Courier New',monospace\"><span style=\"font-weight: bold\"> Total params: </span><span style=\"color: #00af00; text-decoration-color: #00af00\">2,723,745</span> (10.39 MB)\n",
       "</pre>\n"
      ],
      "text/plain": [
       "\u001b[1m Total params: \u001b[0m\u001b[38;5;34m2,723,745\u001b[0m (10.39 MB)\n"
      ]
     },
     "metadata": {},
     "output_type": "display_data"
    },
    {
     "data": {
      "text/html": [
       "<pre style=\"white-space:pre;overflow-x:auto;line-height:normal;font-family:Menlo,'DejaVu Sans Mono',consolas,'Courier New',monospace\"><span style=\"font-weight: bold\"> Trainable params: </span><span style=\"color: #00af00; text-decoration-color: #00af00\">2,723,745</span> (10.39 MB)\n",
       "</pre>\n"
      ],
      "text/plain": [
       "\u001b[1m Trainable params: \u001b[0m\u001b[38;5;34m2,723,745\u001b[0m (10.39 MB)\n"
      ]
     },
     "metadata": {},
     "output_type": "display_data"
    },
    {
     "data": {
      "text/html": [
       "<pre style=\"white-space:pre;overflow-x:auto;line-height:normal;font-family:Menlo,'DejaVu Sans Mono',consolas,'Courier New',monospace\"><span style=\"font-weight: bold\"> Non-trainable params: </span><span style=\"color: #00af00; text-decoration-color: #00af00\">0</span> (0.00 B)\n",
       "</pre>\n"
      ],
      "text/plain": [
       "\u001b[1m Non-trainable params: \u001b[0m\u001b[38;5;34m0\u001b[0m (0.00 B)\n"
      ]
     },
     "metadata": {},
     "output_type": "display_data"
    },
    {
     "ename": "AttributeError",
     "evalue": "'str' object has no attribute 'train'",
     "output_type": "error",
     "traceback": [
      "\u001b[1;31m---------------------------------------------------------------------------\u001b[0m",
      "\u001b[1;31mAttributeError\u001b[0m                            Traceback (most recent call last)",
      "Cell \u001b[1;32mIn[260], line 152\u001b[0m\n\u001b[0;32m    148\u001b[0m \u001b[38;5;66;03m# models_list = models_list # [:-2] # Do you want to test all of them? Are you sure? Good luck man :)\u001b[39;00m\n\u001b[0;32m    150\u001b[0m \u001b[38;5;28;01mfor\u001b[39;00m i, m \u001b[38;5;129;01min\u001b[39;00m \u001b[38;5;28menumerate\u001b[39m(models_list): \n\u001b[0;32m    151\u001b[0m     \u001b[38;5;66;03m#print(f\"Training model {i}\")\u001b[39;00m\n\u001b[1;32m--> 152\u001b[0m     m\u001b[38;5;241m.\u001b[39mtrain(train, epochs\u001b[38;5;241m=\u001b[39m\u001b[38;5;241m1\u001b[39m, batch_size\u001b[38;5;241m=\u001b[39m\u001b[38;5;241m10\u001b[39m, verbose\u001b[38;5;241m=\u001b[39m\u001b[38;5;28;01mFalse\u001b[39;00m)\n",
      "\u001b[1;31mAttributeError\u001b[0m: 'str' object has no attribute 'train'"
     ]
    }
   ],
   "source": [
    "# Custom version of keras.Sequential that will also allow skip connections in the future\n",
    "models_list = [\n",
    "\n",
    "    AE(name=\"AE (128 latdim)\",\n",
    "        input_shape=train.shape, #(491, 80, 96, 80),\n",
    "        latent_dim=128,\n",
    "        encoder_layers=[\n",
    "            (layers.Conv3D, 8, (3,3,3), {'strides': 2, 'padding': 'same'}),\n",
    "            (layers.Conv3D, 16, (3,3,3), {'strides': 2, 'padding': 'same'}),\n",
    "            (layers.Conv3D, 32, (3,3,3), {'strides': 2, 'padding': 'same'}),\n",
    "            (layers.Conv3D, 64, (3,3,3), {'strides': 2, 'padding': 'same'}),\n",
    "        ],\n",
    "        decoder_layers=[\n",
    "            (layers.Conv3D, 64, (3,3,3), {'padding': 'same'}), (layers.UpSampling3D, (2,2,2)),\n",
    "            (layers.Conv3D, 32, (3,3,3), {'padding': 'same'}), (layers.UpSampling3D, (2,2,2)),\n",
    "            (layers.Conv3D, 16, (3,3,3), {'padding': 'same'}), (layers.UpSampling3D, (2,2,2)),\n",
    "            (layers.Conv3D, 8, (3,3,3), {'padding': 'same'}), (layers.UpSampling3D, (2,2,2)),\n",
    "            (layers.Conv3D, 1, (3,3,3), {'padding': 'same'}),\n",
    "        ]),\n",
    "\n",
    "    AE(name=\"AE (dropout, 128 latdim)\",\n",
    "        input_shape=train.shape,\n",
    "        latent_dim=128,\n",
    "        encoder_layers=[\n",
    "            (layers.Conv3D, 8, (3,3,3), {'strides': 2, 'padding': 'same'}), layers.Dropout(0.05),\n",
    "            (layers.Conv3D, 16, (3,3,3), {'strides': 2, 'padding': 'same'}), layers.Dropout(0.05),\n",
    "            (layers.Conv3D, 32, (3,3,3), {'strides': 2, 'padding': 'same'}), layers.Dropout(0.05),\n",
    "            (layers.Conv3D, 64, (3,3,3), {'strides': 2, 'padding': 'same'}), layers.Dropout(0.05),\n",
    "        ],\n",
    "        decoder_layers=[\n",
    "            (layers.Conv3D, 64, (3,3,3), {'padding': 'same'}), (layers.UpSampling3D, (2,2,2)),\n",
    "            (layers.Conv3D, 32, (3,3,3), {'padding': 'same'}), (layers.UpSampling3D, (2,2,2)),\n",
    "            (layers.Conv3D, 16, (3,3,3), {'padding': 'same'}), (layers.UpSampling3D, (2,2,2)),\n",
    "            (layers.Conv3D, 8, (3,3,3), {'padding': 'same'}), (layers.UpSampling3D, (2,2,2)),\n",
    "            (layers.Conv3D, 1, (3,3,3), {'padding': 'same'}),\n",
    "        ]),\n",
    "    \n",
    "    \"\"\"\n",
    "    AE(name=\"AE (deep, 128 latdim)\",\n",
    "        input_shape=train.shape,\n",
    "        latent_dim=128,\n",
    "        encoder_layers=[\n",
    "            (layers.Conv3D, 16, (3,3,3), {'strides': 2, 'padding': 'same'}),\n",
    "            (layers.Conv3D, 32, (3,3,3), {'strides': 2, 'padding': 'same'}),\n",
    "            (layers.Conv3D, 64, (3,3,3), {'strides': 2, 'padding': 'same'}),\n",
    "            (layers.Conv3D, 128, (3,3,3), {'strides': 2, 'padding': 'same'}),\n",
    "            (layers.Conv3D, 256, (3,3,3), {'strides': 2, 'padding': 'same'}),\n",
    "        ],\n",
    "        decoder_layers=[\n",
    "            (layers.Conv3D, 256, (3,3,3), {'padding': 'same'}), (layers.UpSampling3D, (2,2,2)),\n",
    "            (layers.Conv3D, 128, (3,3,3), {'padding': 'same'}), (layers.UpSampling3D, (2,2,2)),\n",
    "            (layers.Conv3D, 64, (3,3,3), {'padding': 'same'}), (layers.UpSampling3D, (2,2,2)),\n",
    "            (layers.Conv3D, 32, (3,3,3), {'padding': 'same'}), (layers.UpSampling3D, (2,2,2)),\n",
    "            (layers.Conv3D, 1, (3,3,3), {'padding': 'same'}),\n",
    "        ]),\n",
    "\n",
    "\n",
    "    AE(name=\"AE (shorter, dropout, 128 latdim)\",\n",
    "        input_shape=train.shape,\n",
    "        latent_dim=128,\n",
    "        encoder_layers=[\n",
    "            (layers.Conv3D, 8, (3,3,3), {'strides': 2, 'padding': 'same'}), layers.Dropout(0.05),\n",
    "            (layers.Conv3D, 16, (3,3,3), {'strides': 2, 'padding': 'same'}), layers.Dropout(0.05),\n",
    "            (layers.Conv3D, 32, (3,3,3), {'strides': 2, 'padding': 'same'}), layers.Dropout(0.05),\n",
    "        ],\n",
    "        decoder_layers=[\n",
    "            (layers.Conv3D, 32, (3,3,3), {'padding': 'same'}), (layers.UpSampling3D, (2,2,2)),\n",
    "            (layers.Conv3D, 16, (3,3,3), {'padding': 'same'}), (layers.UpSampling3D, (2,2,2)),\n",
    "            (layers.Conv3D, 8, (3,3,3), {'padding': 'same'}), (layers.UpSampling3D, (2,2,2)),\n",
    "            (layers.Conv3D, 1, (3,3,3), {'padding': 'same'}),\n",
    "        ]),\n",
    "    \n",
    "    \n",
    "    AE(name=\"AE (dropout, 258 latdim)\",\n",
    "        input_shape=train.shape,\n",
    "        latent_dim=256,\n",
    "        encoder_layers=[\n",
    "            (layers.Conv3D, 8, (3,3,3), {'strides': 2, 'padding': 'same'}), layers.Dropout(0.05),\n",
    "            (layers.Conv3D, 16, (3,3,3), {'strides': 2, 'padding': 'same'}), layers.Dropout(0.05),\n",
    "            (layers.Conv3D, 32, (3,3,3), {'strides': 2, 'padding': 'same'}), layers.Dropout(0.05),\n",
    "        ],\n",
    "        decoder_layers=[\n",
    "            (layers.Conv3D, 32, (3,3,3), {'padding': 'same'}), (layers.UpSampling3D, (2,2,2)),\n",
    "            (layers.Conv3D, 16, (3,3,3), {'padding': 'same'}), (layers.UpSampling3D, (2,2,2)),\n",
    "            (layers.Conv3D, 8, (3,3,3), {'padding': 'same'}), (layers.UpSampling3D, (2,2,2)),\n",
    "            (layers.Conv3D, 1, (3,3,3), {'padding': 'same'}),\n",
    "        ]),\n",
    "\n",
    "    \n",
    "    AE(name=\"AE (batchn, relu, 128 latdim)\",\n",
    "        input_shape=train.shape,\n",
    "        latent_dim=128,\n",
    "        encoder_layers=[\n",
    "            \n",
    "            (layers.Conv3D, 16, (3,3,3), {'strides': 2, 'padding': 'same'}), (layers.BatchNormalization, 16), (layers.ReLU, True),\n",
    "            (layers.Conv3D, 32, (3,3,3), {'strides': 2, 'padding': 'same'}), (layers.BatchNormalization, 32), (layers.ReLU, True),\n",
    "            (layers.Conv3D, 64, (3,3,3), {'strides': 2, 'padding': 'same'}), (layers.BatchNormalization, 64), (layers.ReLU, True),\n",
    "            (layers.Conv3D, 128, (3,3,3), {'strides': 2, 'padding': 'same'}), (layers.BatchNormalization, 128), (layers.ReLU, True),\n",
    "            (layers.Conv3D, 256, (3,3,3), {'strides': 2, 'padding': 'same'}), (layers.BatchNormalization, 256), (layers.ReLU, True),\n",
    "        ],\n",
    "        decoder_layers=[\n",
    "            (layers.Conv3D, 256, (3,3,3), {'padding': 'same'}), (layers.BatchNormalization, 256), (layers.ReLU, True), (layers.UpSampling3D, (2,2,2)),\n",
    "            (layers.Conv3D, 128, (3,3,3), {'padding': 'same'}), (layers.BatchNormalization, 128), (layers.ReLU, True), (layers.UpSampling3D, (2,2,2)),\n",
    "            (layers.Conv3D, 64, (3,3,3), {'padding': 'same'}), (layers.BatchNormalization, 64), (layers.ReLU, True), (layers.UpSampling3D, (2,2,2)),\n",
    "            (layers.Conv3D, 32, (3,3,3), {'padding': 'same'}), (layers.BatchNormalization, 32), (layers.ReLU, True), (layers.UpSampling3D, (2,2,2)),\n",
    "            (layers.Conv3D, 1, (3,3,3), {'padding': 'same'}),\n",
    "        ]),\n",
    "\n",
    "    AE(name=\"AE (batchnorm, relu, maxp)\",\n",
    "        input_shape=train.shape,\n",
    "        latent_dim=128,\n",
    "        encoder_layers=[\n",
    "            (layers.Conv3D, 16, (3,3,3), {'strides': 2, 'padding': 'same'}), (layers.BatchNormalization, 16), (layers.ReLU, True), (layers.MaxPooling3D, (2,2,2), {'padding': 'same'}),\n",
    "            (layers.Conv3D, 32, (3,3,3), {'strides': 2, 'padding': 'same'}), (layers.BatchNormalization, 32), (layers.ReLU, True), (layers.MaxPooling3D, (2,2,2), {'padding': 'same'}),\n",
    "            (layers.Conv3D, 64, (3,3,3), {'strides': 2, 'padding': 'same'}), (layers.BatchNormalization, 64), (layers.ReLU, True), (layers.MaxPooling3D, (2,2,2), {'padding': 'same'}),\n",
    "            (layers.Conv3D, 128, (3,3,3), {'strides': 2, 'padding': 'same'}), (layers.BatchNormalization, 128), (layers.ReLU, True),(layers.MaxPooling3D, (2,2,2), {'padding': 'same'}),\n",
    "            (layers.Conv3D, 256, (3,3,3), {'strides': 2, 'padding': 'same'}), (layers.BatchNormalization, 256), (layers.ReLU, True),\n",
    "        ],\n",
    "        decoder_layers=[\n",
    "            (layers.Conv3D, 256, (3,3,3), {'padding': 'same'}), (layers.BatchNorm3d, 256), (layers.ReLU, True), (layers.UpSampling3D, (2,2,2)),\n",
    "            (layers.Conv3D, 128, (3,3,3), {'padding': 'same'}), (layers.BatchNorm3d, 128), (layers.ReLU, True), (layers.UpSampling3D, (2,2,2)),\n",
    "            (layers.Conv3D, 64, (3,3,3), {'padding': 'same'}), (layers.BatchNorm3d, 64), (layers.ReLU, True), (layers.UpSampling3D, (2,2,2)),\n",
    "            (layers.Conv3D, 32, (3,3,3), {'padding': 'same'}), (layers.BatchNorm3d, 32), (layers.ReLU, True), (layers.UpSampling3D, (2,2,2)),\n",
    "            (layers.Conv3D, 1, (3,3,3), {'padding': 'same'}),\n",
    "        ])\n",
    "    \"\"\"\n",
    "]\n",
    "\n",
    "\"\"\"\n",
    "AE(name=\"AE (dropout, attention, 128 latdim)\",\n",
    "    input_shape=train.shape,\n",
    "    latent_dim=128,\n",
    "    encoder_layers=[\n",
    "        (layers.Conv3D, 16, (3,3,3), {'strides': 2, 'padding': 'same'}), layers.Dropout(0.05),\n",
    "        (layers.Conv3D, 32, (3,3,3), {'strides': 2, 'padding': 'same'}), layers.Dropout(0.05),\n",
    "        (layers.Conv3D, 64, (3,3,3), {'strides': 2, 'padding': 'same'}), layers.Dropout(0.05),\n",
    "        layers.Attention(64)\n",
    "    ],\n",
    "    decoder_layers=[\n",
    "        (layers.Conv3D, 64, (3,3,3), {'padding': 'same'}), (layers.UpSampling3D, (2,2,2)),\n",
    "        (layers.Conv3D, 32, (3,3,3), {'padding': 'same'}), (layers.UpSampling3D, (2,2,2)),\n",
    "        (layers.Conv3D, 16, (3,3,3), {'padding': 'same'}), (layers.UpSampling3D, (2,2,2)),\n",
    "        (layers.Conv3D, 1, (3,3,3), {'padding': 'same'}),\n",
    "    ]\n",
    "),\"\"\",\n",
    "\n",
    "models_list[0].summary()\n",
    "# models_list = models_list # [:-2] # Do you want to test all of them? Are you sure? Good luck man :)\n",
    "\n",
    "for i, m in enumerate(models_list): \n",
    "    #print(f\"Training model {i}\")\n",
    "    m.train(train, epochs=1, batch_size=10, verbose=False) # burh error, imma go stukap\n",
    "# ae1.plot_evaluation()"
   ]
  },
  {
   "cell_type": "code",
   "execution_count": 248,
   "metadata": {},
   "outputs": [
    {
     "data": {
      "image/png": "[encoded data removed]",
      "text/plain": [
       "<Figure size 640x480 with 1 Axes>"
      ]
     },
     "metadata": {},
     "output_type": "display_data"
    }
   ],
   "source": [
    "training_times = []\n",
    "for m in models_list:\n",
    "    if hasattr(m, 'training_time') and m.training_time is not None:\n",
    "        training_times.append(m.training_time)\n",
    "\n",
    "if training_times:\n",
    "    x = list(range(len(training_times)))\n",
    "    plt.bar(x, training_times)\n",
    "    plt.xlabel('Model index')\n",
    "    plt.ylabel('Training time (seconds)')\n",
    "    plt.title('Training time of models')\n",
    "    plt.show()"
   ]
  },
  {
   "cell_type": "code",
   "execution_count": 249,
   "metadata": {},
   "outputs": [
    {
     "ename": "AttributeError",
     "evalue": "'NoneType' object has no attribute 'history'",
     "output_type": "error",
     "traceback": [
      "\u001b[1;31m---------------------------------------------------------------------------\u001b[0m",
      "\u001b[1;31mAttributeError\u001b[0m                            Traceback (most recent call last)",
      "Cell \u001b[1;32mIn[249], line 24\u001b[0m\n\u001b[0;32m     21\u001b[0m     plt\u001b[38;5;241m.\u001b[39mshow()\n\u001b[0;32m     23\u001b[0m \u001b[38;5;66;03m# if models_list in locals(): # if the variable exists\u001b[39;00m\n\u001b[1;32m---> 24\u001b[0m compare_models_loss_history(models_list, log10\u001b[38;5;241m=\u001b[39m\u001b[38;5;28;01mFalse\u001b[39;00m)\n",
      "Cell \u001b[1;32mIn[249], line 14\u001b[0m, in \u001b[0;36mcompare_models_loss_history\u001b[1;34m(models, log10, title)\u001b[0m\n\u001b[0;32m      2\u001b[0m \u001b[38;5;250m\u001b[39m\u001b[38;5;124;03m\"\"\"\u001b[39;00m\n\u001b[0;32m      3\u001b[0m \u001b[38;5;124;03mCompares the loss histories of multiple models by plotting their log-transformed losses.\u001b[39;00m\n\u001b[0;32m      4\u001b[0m \n\u001b[1;32m   (...)\u001b[0m\n\u001b[0;32m      9\u001b[0m \u001b[38;5;124;03m- None: Displays a plot of the loss histories.\u001b[39;00m\n\u001b[0;32m     10\u001b[0m \u001b[38;5;124;03m\"\"\"\u001b[39;00m\n\u001b[0;32m     11\u001b[0m \u001b[38;5;28;01mfor\u001b[39;00m i, model \u001b[38;5;129;01min\u001b[39;00m \u001b[38;5;28menumerate\u001b[39m(models):\n\u001b[0;32m     12\u001b[0m     \u001b[38;5;66;03m#color = decimal_to_rgb(i, len(models))\u001b[39;00m\n\u001b[0;32m     13\u001b[0m     \u001b[38;5;66;03m#color = \"#{:02x}{:02x}{:02x}\".format(np.random.randint(0, 256), np.random.randint(0, 256), np.random.randint(0, 256))\u001b[39;00m\n\u001b[1;32m---> 14\u001b[0m     y \u001b[38;5;241m=\u001b[39m [model\u001b[38;5;241m.\u001b[39mhistory\u001b[38;5;241m.\u001b[39mhistory[\u001b[38;5;124m\"\u001b[39m\u001b[38;5;124mloss\u001b[39m\u001b[38;5;124m\"\u001b[39m], np\u001b[38;5;241m.\u001b[39mlog10(model\u001b[38;5;241m.\u001b[39mhistory\u001b[38;5;241m.\u001b[39mhistory[\u001b[38;5;124m\"\u001b[39m\u001b[38;5;124mloss\u001b[39m\u001b[38;5;124m\"\u001b[39m])][log10]\n\u001b[0;32m     15\u001b[0m     plt\u001b[38;5;241m.\u001b[39mplot(y, label\u001b[38;5;241m=\u001b[39mmodel\u001b[38;5;241m.\u001b[39mname) \u001b[38;5;66;03m#, color=color\u001b[39;00m\n\u001b[0;32m     16\u001b[0m plt\u001b[38;5;241m.\u001b[39mtitle(title)\n",
      "\u001b[1;31mAttributeError\u001b[0m: 'NoneType' object has no attribute 'history'"
     ]
    },
    {
     "data": {
      "image/png": "[encoded data removed]",
      "text/plain": [
       "<Figure size 640x480 with 1 Axes>"
      ]
     },
     "metadata": {},
     "output_type": "display_data"
    }
   ],
   "source": [
    "def compare_models_loss_history(models, log10=True, title=\"Model's loss history\"):\n",
    "    \"\"\"\n",
    "    Compares the loss histories of multiple models by plotting their log-transformed losses.\n",
    "\n",
    "    Parameters:\n",
    "    - models: list of model objects, each containing a 'log.history[\"loss\"]' attribute and a 'name'.\n",
    "\n",
    "    Returns:\n",
    "    - None: Displays a plot of the loss histories.\n",
    "    \"\"\"\n",
    "    for i, model in enumerate(models):\n",
    "        #color = decimal_to_rgb(i, len(models))\n",
    "        #color = \"#{:02x}{:02x}{:02x}\".format(np.random.randint(0, 256), np.random.randint(0, 256), np.random.randint(0, 256))\n",
    "        y = [model.history.history[\"loss\"], np.log10(model.history.history[\"loss\"])][log10]\n",
    "        plt.plot(y, label=model.name) #, color=color\n",
    "    plt.title(title)\n",
    "    plt.xlabel(\"Epochs\")\n",
    "    plt.ylabel(\"Loss Log10\") if log10 else plt.ylabel(\"Loss\")\n",
    "    plt.legend()\n",
    "    plt.grid()\n",
    "    plt.show()\n",
    "\n",
    "# if models_list in locals(): # if the variable exists\n",
    "compare_models_loss_history(models_list, log10=False)"
   ]
  },
  {
   "cell_type": "code",
   "execution_count": 216,
   "metadata": {},
   "outputs": [],
   "source": [
    "def plot_images(images, dimensions, fig_size=(10,8), titles=[], top_title=\"Image Gallery\"):\n",
    "    \"\"\"\n",
    "    Plots a grid of images with corresponding titles.\n",
    "\n",
    "    Parameters:\n",
    "    - images: list of numpy arrays, the images to be displayed.\n",
    "    - dimensions: tuple of int (rows, cols), grid layout for images.\n",
    "    - fig_size: tuple for the figure size, eg (10,8)\n",
    "    - titles: list of str, the titles for each image.\n",
    "    - top_title: str, optional, the title of the overall figure.\n",
    "\n",
    "    Returns:\n",
    "    - None: Displays the plot.\n",
    "    \"\"\"\n",
    "    plt.figure(figsize=fig_size)\n",
    "    plt.suptitle(top_title, fontsize=12, fontweight='bold', y=0.99)\n",
    "    for i, img in enumerate(images):\n",
    "        plt.subplot(dimensions[0], dimensions[1], i + 1)\n",
    "        plt.imshow(img, cmap='gray')\n",
    "        if len(titles) == len(images):\n",
    "            plt.title(titles[i], fontsize=10)\n",
    "        plt.axis('off')\n",
    "        plt.tight_layout()\n",
    "    plt.show()"
   ]
  },
  {
   "cell_type": "code",
   "execution_count": 217,
   "metadata": {},
   "outputs": [
    {
     "name": "stdout",
     "output_type": "stream",
     "text": [
      "\u001b[1m1/1\u001b[0m \u001b[32m━━━━━━━━━━━━━━━━━━━━\u001b[0m\u001b[37m\u001b[0m \u001b[1m0s\u001b[0m 30ms/step\n",
      "\u001b[1m1/1\u001b[0m \u001b[32m━━━━━━━━━━━━━━━━━━━━\u001b[0m\u001b[37m\u001b[0m \u001b[1m0s\u001b[0m 108ms/step\n",
      "\u001b[1m1/1\u001b[0m \u001b[32m━━━━━━━━━━━━━━━━━━━━\u001b[0m\u001b[37m\u001b[0m \u001b[1m0s\u001b[0m 23ms/step\n",
      "\u001b[1m1/1\u001b[0m \u001b[32m━━━━━━━━━━━━━━━━━━━━\u001b[0m\u001b[37m\u001b[0m \u001b[1m0s\u001b[0m 104ms/step\n"
     ]
    },
    {
     "data": {
      "image/png": "[encoded data removed]",
      "text/plain": [
       "<Figure size 300x300 with 4 Axes>"
      ]
     },
     "metadata": {},
     "output_type": "display_data"
    }
   ],
   "source": [
    "test_id = 1\n",
    "images = []\n",
    "for m in models_list:\n",
    "    recon = m.decode(m.encode(test))\n",
    "    input_image = np.rot90(test[test_id][40].reshape((96, 80)))\n",
    "    recon_image = np.rot90(recon[test_id][40])\n",
    "    images.append(input_image)\n",
    "    images.append(recon_image)\n",
    "\n",
    "plot_images(images, dimensions=(2,2), fig_size=(3, 3), titles=[], top_title=\"\")"
   ]
  }
 ],
 "metadata": {
  "kernelspec": {
   "display_name": "base",
   "language": "python",
   "name": "python3"
  },
  "language_info": {
   "codemirror_mode": {
    "name": "ipython",
    "version": 3
   },
   "file_extension": ".py",
   "mimetype": "text/x-python",
   "name": "python",
   "nbconvert_exporter": "python",
   "pygments_lexer": "ipython3",
   "version": "3.11.7"
  }
 },
 "nbformat": 4,
 "nbformat_minor": 2
}
