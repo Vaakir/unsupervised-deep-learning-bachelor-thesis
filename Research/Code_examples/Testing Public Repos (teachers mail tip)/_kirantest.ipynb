{
 "cells": [
  {
   "cell_type": "code",
   "execution_count": 1,
   "metadata": {},
   "outputs": [],
   "source": [
    "# Github repositories retrieved from the advice on mail our professor gave\n",
    "# https://github.com/duyphuongcri/Variational-AutoEncoder/tree/master\n",
    "# https://github.com/FinnBehrendt/Unsupervised-Anomaly-Detection-in-Brain-MRI?tab=readme-ov-file\n",
    "\n",
    "# Testing this before anything else \n"
   ]
  }
 ],
 "metadata": {
  "kernelspec": {
   "display_name": "base",
   "language": "python",
   "name": "python3"
  },
  "language_info": {
   "codemirror_mode": {
    "name": "ipython",
    "version": 3
   },
   "file_extension": ".py",
   "mimetype": "text/x-python",
   "name": "python",
   "nbconvert_exporter": "python",
   "pygments_lexer": "ipython3",
   "version": "3.11.7"
  }
 },
 "nbformat": 4,
 "nbformat_minor": 2
}
