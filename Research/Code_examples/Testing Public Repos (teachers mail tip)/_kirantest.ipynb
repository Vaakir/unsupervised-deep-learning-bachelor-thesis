{
 "cells": [
  {
   "cell_type": "code",
   "execution_count": 1,
   "metadata": {},
   "outputs": [],
   "source": [
    "# Github repositories retrieved from the advice on mail our professor gave\n",
    "# https://github.com/duyphuongcri/Variational-AutoEncoder/tree/master\n",
    "# https://github.com/FinnBehrendt/Unsupervised-Anomaly-Detection-in-Brain-MRI?tab=readme-ov-file\n",
    "\n",
    "# Testing this before anything else "
   ]
  },
  {
   "cell_type": "code",
   "execution_count": null,
   "metadata": {},
   "outputs": [],
   "source": [
    "from vae.dataloader import split_train_test, save_data_to_csv, load_mri_images\n",
    "from vae.model import VAE"
   ]
  },
  {
   "cell_type": "code",
   "execution_count": 5,
   "metadata": {},
   "outputs": [],
   "source": [
    "path = r\"C:\\Users\\kiran\\Documents\\_UIS\\sem6\\BACH\\Data\\very_spatial_norm\"\n",
    "imgs = load_mri_images(path, batch_size=2)"
   ]
  }
 ],
 "metadata": {
  "kernelspec": {
   "display_name": "base",
   "language": "python",
   "name": "python3"
  },
  "language_info": {
   "codemirror_mode": {
    "name": "ipython",
    "version": 3
   },
   "file_extension": ".py",
   "mimetype": "text/x-python",
   "name": "python",
   "nbconvert_exporter": "python",
   "pygments_lexer": "ipython3",
   "version": "3.11.7"
  }
 },
 "nbformat": 4,
 "nbformat_minor": 2
}
