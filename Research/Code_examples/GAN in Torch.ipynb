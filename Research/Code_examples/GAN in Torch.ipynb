{
 "cells": [
  {
   "cell_type": "code",
   "execution_count": 1,
   "metadata": {},
   "outputs": [],
   "source": [
    "import torch\n",
    "import torch.nn as nn\n",
    "import torch.optim as optim"
   ]
  },
  {
   "cell_type": "code",
   "execution_count": 2,
   "metadata": {},
   "outputs": [
    {
     "name": "stdout",
     "output_type": "stream",
     "text": [
      "Epoch [1000/10000], D Loss: 1.3440, G Loss: 0.7489\n",
      "Epoch [2000/10000], D Loss: 1.1951, G Loss: 0.8892\n",
      "Epoch [3000/10000], D Loss: 1.1937, G Loss: 0.8330\n",
      "Epoch [4000/10000], D Loss: 1.2375, G Loss: 0.8077\n",
      "Epoch [5000/10000], D Loss: 1.2757, G Loss: 0.7988\n",
      "Epoch [6000/10000], D Loss: 1.4561, G Loss: 0.7116\n",
      "Epoch [7000/10000], D Loss: 1.2862, G Loss: 0.7629\n",
      "Epoch [8000/10000], D Loss: 1.5045, G Loss: 0.5712\n",
      "Epoch [9000/10000], D Loss: 1.2991, G Loss: 0.8159\n",
      "Epoch [10000/10000], D Loss: 1.4321, G Loss: 0.5589\n",
      "Generated Data: tensor([[0.5042],\n",
      "        [0.5582],\n",
      "        [0.7426],\n",
      "        [0.7180],\n",
      "        [0.4550],\n",
      "        [0.4462],\n",
      "        [0.7691],\n",
      "        [1.0087],\n",
      "        [0.5869],\n",
      "        [0.4509]])\n"
     ]
    }
   ],
   "source": [
    "# Define the Generator\n",
    "class Generator(nn.Module):\n",
    "    def __init__(self, input_dim, output_dim):\n",
    "        super(Generator, self).__init__()\n",
    "        self.model = nn.Sequential(\n",
    "            nn.Linear(input_dim, 64),\n",
    "            nn.ReLU(),\n",
    "            nn.Linear(64, 64),\n",
    "            nn.ReLU(),\n",
    "            nn.Linear(64, output_dim)\n",
    "        )\n",
    "\n",
    "    def forward(self, z):\n",
    "        return self.model(z)\n",
    "\n",
    "# Define the Discriminator\n",
    "class Discriminator(nn.Module):\n",
    "    def __init__(self, input_dim):\n",
    "        super(Discriminator, self).__init__()\n",
    "        self.model = nn.Sequential(\n",
    "            nn.Linear(input_dim, 64),\n",
    "            nn.ReLU(),\n",
    "            nn.Linear(64, 64),\n",
    "            nn.ReLU(),\n",
    "            nn.Linear(64, 1),\n",
    "            nn.Sigmoid()\n",
    "        )\n",
    "\n",
    "    def forward(self, x):\n",
    "        return self.model(x)\n",
    "\n",
    "# Hyperparameters\n",
    "input_dim = 1\n",
    "noise_dim = 1\n",
    "lr = 0.0002\n",
    "batch_size = 64\n",
    "epochs = 10000\n",
    "\n",
    "def true_function(x):\n",
    "    epsilon = torch.randn_like(x) * 0.1  # Add noise\n",
    "    return -x + epsilon\n",
    "\n",
    "# Initialize Generator and Discriminator\n",
    "generator = Generator(noise_dim, input_dim)\n",
    "discriminator = Discriminator(input_dim)\n",
    "\n",
    "# Loss and Optimizers\n",
    "criterion = nn.BCELoss()\n",
    "g_optimizer = optim.Adam(generator.parameters(), lr=lr)\n",
    "d_optimizer = optim.Adam(discriminator.parameters(), lr=lr)\n",
    "\n",
    "# Training loop\n",
    "for epoch in range(epochs):\n",
    "    # Generate real data\n",
    "    real_data = torch.rand(batch_size, input_dim) * 2 - 1  # Uniform distribution in [-1, 1]\n",
    "    real_labels = torch.ones(batch_size, 1)  # Label for real data\n",
    "    fake_labels = torch.zeros(batch_size, 1)  # Label for fake data\n",
    "\n",
    "    # Train Discriminator\n",
    "    d_optimizer.zero_grad()\n",
    "    real_outputs = discriminator(real_data)\n",
    "    real_loss = criterion(real_outputs, real_labels)\n",
    "\n",
    "    noise = torch.randn(batch_size, noise_dim)\n",
    "    fake_data = generator(noise)\n",
    "    fake_outputs = discriminator(fake_data.detach())\n",
    "    fake_loss = criterion(fake_outputs, fake_labels)\n",
    "\n",
    "    d_loss = real_loss + fake_loss\n",
    "    d_loss.backward()\n",
    "    d_optimizer.step()\n",
    "\n",
    "    # Train Generator\n",
    "    g_optimizer.zero_grad()\n",
    "    fake_outputs = discriminator(fake_data)\n",
    "    g_loss = criterion(fake_outputs, real_labels)  # Try to fool the discriminator\n",
    "    g_loss.backward()\n",
    "    g_optimizer.step()\n",
    "\n",
    "    # Print progress\n",
    "    if (epoch + 1) % 1000 == 0:\n",
    "        print(f\"Epoch [{epoch + 1}/{epochs}], D Loss: {d_loss.item():.4f}, G Loss: {g_loss.item():.4f}\")\n",
    "\n",
    "# Test the Generator\n",
    "noise = torch.randn(10, noise_dim)\n",
    "with torch.no_grad():\n",
    "    generated_data = generator(noise)\n",
    "print(\"Generated Data:\", generated_data)\n"
   ]
  },
  {
   "cell_type": "code",
   "execution_count": 22,
   "metadata": {},
   "outputs": [
    {
     "name": "stdout",
     "output_type": "stream",
     "text": [
      "Generated Data: tensor([[6.6861],\n",
      "        [5.6183],\n",
      "        [5.0435],\n",
      "        [2.8878],\n",
      "        [2.4957],\n",
      "        [5.5257],\n",
      "        [4.9065],\n",
      "        [2.6250],\n",
      "        [1.0314],\n",
      "        [4.1515]])\n"
     ]
    }
   ],
   "source": [
    "\n",
    "noise = torch.randn(10, noise_dim)*5+10\n",
    "with torch.no_grad():\n",
    "    generated_data = generator(noise)\n",
    "print(\"Generated Data:\", generated_data)"
   ]
  }
 ],
 "metadata": {
  "kernelspec": {
   "display_name": "Python 3",
   "language": "python",
   "name": "python3"
  },
  "language_info": {
   "codemirror_mode": {
    "name": "ipython",
    "version": 3
   },
   "file_extension": ".py",
   "mimetype": "text/x-python",
   "name": "python",
   "nbconvert_exporter": "python",
   "pygments_lexer": "ipython3",
   "version": "3.12.8"
  }
 },
 "nbformat": 4,
 "nbformat_minor": 2
}
