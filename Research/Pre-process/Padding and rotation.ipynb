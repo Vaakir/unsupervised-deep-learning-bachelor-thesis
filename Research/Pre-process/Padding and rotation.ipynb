{
 "cells": [
  {
   "cell_type": "code",
   "execution_count": 1,
   "metadata": {},
   "outputs": [],
   "source": [
    "import nibabel as nib\n",
    "import numpy as np\n",
    "import glob\n",
    "from tqdm import tqdm"
   ]
  },
  {
   "cell_type": "code",
   "execution_count": 2,
   "metadata": {},
   "outputs": [
    {
     "name": "stdout",
     "output_type": "stream",
     "text": [
      "59 scans with shape (256, 256, 170)\n"
     ]
    }
   ],
   "source": [
    "nii_files = glob.glob(\"../../Data/Temp/ADNI/**/*.nii\", recursive=True)\n",
    "images = []\n",
    "for nii_file in nii_files:\n",
    "    try:\n",
    "        img_ = nib.load(nii_file)\n",
    "        images.append(img_)\n",
    "    except: pass\n",
    "\n",
    "print(f\"{len(images)} scans with shape {images[0].shape}\")\n"
   ]
  },
  {
   "cell_type": "code",
   "execution_count": 3,
   "metadata": {},
   "outputs": [],
   "source": [
    "def check_and_correct_rotation(img):\n",
    "    bottom_edge_brightness = np.mean(img[-1, :, :])\n",
    "    right_edge_brightness = np.mean(img[:, -1, :])\n",
    "    # Bottom edge SHOULD have more brightness\n",
    "    if right_edge_brightness > bottom_edge_brightness:\n",
    "        img = np.transpose(img, axes=(1, 0, 2))  # Swap x and y axes\n",
    "        img = img[:, :, ::-1]  # Reverse the swapped axis\n",
    "    return img"
   ]
  },
  {
   "cell_type": "code",
   "execution_count": 10,
   "metadata": {},
   "outputs": [
    {
     "name": "stderr",
     "output_type": "stream",
     "text": [
      "Processing Images: 100%|██████████| 59/59 [00:35<00:00,  1.67image/s]\n"
     ]
    }
   ],
   "source": [
    "\n",
    "# Function to add padding to match the target shape (256, 256, 170)\n",
    "def add_padding(image, target_shape=(256, 256, 176)):\n",
    "    image_data = image.get_fdata()\n",
    "    affine = image.affine\n",
    "    \n",
    "    # Determine padding for each dimension\n",
    "    padding = []\n",
    "    for dim, size in enumerate(image_data.shape):\n",
    "        total_padding = target_shape[dim] - size\n",
    "        if dim == 2:  # z-dimension: Avoid padding where the neck is cut off (inferior side)\n",
    "            pad_before = total_padding\n",
    "            pad_after = total_padding - pad_before\n",
    "            padding.append((pad_before, pad_after - 1 if pad_after > 0 else 0))\n",
    "        else:  # x and y dimensions: center the padding\n",
    "            pad_before = total_padding // 2\n",
    "            pad_after = total_padding - pad_before\n",
    "            padding.append((pad_before, pad_after))\n",
    "    \n",
    "    # Apply padding\n",
    "    padded_data = np.pad(image_data, padding, mode='constant', constant_values=0)\n",
    "    \n",
    "    # Adjust affine for padding\n",
    "    new_affine = affine.copy()\n",
    "    new_affine[:3, 3] -= np.array([p[0] for p in padding]) * np.array(image.header.get_zooms())\n",
    "    \n",
    "    # Create new NIfTI image with padding\n",
    "    padded_image = nib.Nifti1Image(padded_data, new_affine)\n",
    "    return padded_image\n",
    "\n",
    "# Process all images with rotation correction and padding\n",
    "resampled_images = []\n",
    "for img in tqdm(images, desc=\"Processing Images\", unit=\"image\"):\n",
    "    corrected_img = check_and_correct_rotation(img.get_fdata())\n",
    "    corrected_nifti = nib.Nifti1Image(corrected_img, img.affine)\n",
    "    padded_img = add_padding(corrected_nifti)\n",
    "    resampled_images.append(padded_img)"
   ]
  },
  {
   "cell_type": "code",
   "execution_count": null,
   "metadata": {},
   "outputs": [
    {
     "ename": "",
     "evalue": "",
     "output_type": "error",
     "traceback": [
      "\u001b[1;31mThe Kernel crashed while executing code in the current cell or a previous cell. \n",
      "\u001b[1;31mPlease review the code in the cell(s) to identify a possible cause of the failure. \n",
      "\u001b[1;31mClick <a href='https://aka.ms/vscodeJupyterKernelCrash'>here</a> for more info. \n",
      "\u001b[1;31mView Jupyter <a href='command:jupyter.viewOutput'>log</a> for further details."
     ]
    }
   ],
   "source": [
    "for i, img in enumerate(resampled_images):\n",
    "    nib.save(img, f'../../Data/Pre-processed/Scaled and padded/resampled_image_{i}.nii')"
   ]
  },
  {
   "cell_type": "code",
   "execution_count": 11,
   "metadata": {},
   "outputs": [
    {
     "data": {
      "text/plain": [
       "(256, 256, 176)"
      ]
     },
     "execution_count": 11,
     "metadata": {},
     "output_type": "execute_result"
    }
   ],
   "source": [
    "resampled_images[20].shape"
   ]
  }
 ],
 "metadata": {
  "kernelspec": {
   "display_name": "Python 3",
   "language": "python",
   "name": "python3"
  },
  "language_info": {
   "codemirror_mode": {
    "name": "ipython",
    "version": 3
   },
   "file_extension": ".py",
   "mimetype": "text/x-python",
   "name": "python",
   "nbconvert_exporter": "python",
   "pygments_lexer": "ipython3",
   "version": "3.12.8"
  }
 },
 "nbformat": 4,
 "nbformat_minor": 2
}
