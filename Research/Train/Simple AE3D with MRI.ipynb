{
 "cells": [
  {
   "cell_type": "code",
   "execution_count": 1,
   "metadata": {},
   "outputs": [],
   "source": [
    "from tensorflow.keras import layers, Model\n",
    "from matplotlib import pyplot as plt\n",
    "import nibabel as nib\n",
    "import numpy as np\n",
    "import glob"
   ]
  },
  {
   "cell_type": "code",
   "execution_count": null,
   "metadata": {},
   "outputs": [],
   "source": [
    "class AutoEncoder3DOld: # Works but it uses 2d convolutional layers >:(\n",
    "    def __init__(self, input_shape):\n",
    "        # Encoder\n",
    "        encoder_input = layers.Input(shape=input_shape)\n",
    "        x = layers.Conv2D(32, (3, 3), activation=\"relu\", padding=\"same\")(encoder_input)\n",
    "        x = layers.MaxPooling2D((2, 2), padding=\"same\")(x)\n",
    "        x = layers.Dropout(0.1)(x)\n",
    "        encoded = layers.Conv2D(8, (3, 3), activation=\"relu\", padding=\"same\")(x)\n",
    "        encoded = layers.MaxPooling2D((2, 2), padding=\"same\")(encoded)\n",
    "\n",
    "        self.encoder = Model(encoder_input, encoded, name=\"encoder\")\n",
    "\n",
    "        # Decoder\n",
    "        decoder_input = layers.Input(shape=(64, 64, 8))  # Shape of encoded latent space\n",
    "        x = layers.Conv2D(8, (3, 3), activation=\"relu\", padding=\"same\")(decoder_input)\n",
    "        x = layers.UpSampling2D((2, 2))(x)\n",
    "        x = layers.Conv2D(8, (3, 3), activation=\"relu\", padding=\"same\")(x)\n",
    "        x = layers.UpSampling2D((2, 2))(x)\n",
    "        decoded = layers.Conv2D(170, (3, 3), activation=\"relu\", padding=\"same\")(x)\n",
    "\n",
    "        self.decoder = Model(decoder_input, decoded, name=\"decoder\")\n",
    "\n",
    "        # Full Autoencoder (combine encoder and decoder)\n",
    "        autoencoder_input = encoder_input\n",
    "        autoencoder_output = self.decoder(self.encoder(encoder_input))\n",
    "        self.autoencoder = Model(autoencoder_input, autoencoder_output, name=\"autoencoder\")\n",
    "\n",
    "        self.autoencoder.compile(loss='mean_squared_error', optimizer='adam')\n",
    "        self.autoencoder.summary()\n",
    "\n",
    "        return\n",
    "\n",
    "    def train(self, x_train, epochs=2, batch_size=16):\n",
    "        history = self.autoencoder.fit(\n",
    "            x_train, x_train,\n",
    "            epochs=epochs,\n",
    "            batch_size=batch_size,\n",
    "            shuffle=True,\n",
    "            validation_split=0.2\n",
    "        )\n",
    "        return history"
   ]
  },
  {
   "cell_type": "code",
   "execution_count": null,
   "metadata": {},
   "outputs": [],
   "source": [
    "class AutoEncoder3D:\n",
    "    def __init__(self, input_shape):\n",
    "        # Encoder\n",
    "        encoder_input = layers.Input(shape=input_shape)\n",
    "        x = layers.Conv3D(8, (3, 3, 3), activation=\"relu\", padding=\"same\")(encoder_input)\n",
    "        x = layers.MaxPooling3D((2, 2, 2), padding=\"same\")(x)\n",
    "        x = layers.Dropout(0.1)(x)\n",
    "        encoded = layers.Conv3D(8, (3, 3, 3), activation=\"relu\", padding=\"same\")(x)\n",
    "        encoded = layers.MaxPooling2D((2, 2, 2), padding=\"same\")(encoded)\n",
    "\n",
    "        self.encoder = Model(encoder_input, encoded, name=\"encoder\")\n",
    "\n",
    "        # Decoder\n",
    "        decoder_input = layers.Input(shape=(64, 64, 8))  # Shape of encoded latent space\n",
    "        x = layers.Conv2D(8, (3, 3), activation=\"relu\", padding=\"same\")(decoder_input)\n",
    "        x = layers.UpSampling2D((2, 2))(x)\n",
    "        x = layers.Conv2D(8, (3, 3), activation=\"relu\", padding=\"same\")(x)\n",
    "        x = layers.UpSampling2D((2, 2))(x)\n",
    "        decoded = layers.Conv2D(170, (3, 3), activation=\"relu\", padding=\"same\")(x)\n",
    "\n",
    "        self.decoder = Model(decoder_input, decoded, name=\"decoder\")\n",
    "\n",
    "        # Full Autoencoder (combine encoder and decoder)\n",
    "        autoencoder_input = encoder_input\n",
    "        autoencoder_output = self.decoder(self.encoder(encoder_input))\n",
    "        self.autoencoder = Model(autoencoder_input, autoencoder_output, name=\"autoencoder\")\n",
    "\n",
    "        self.autoencoder.compile(loss='mean_squared_error', optimizer='adam')\n",
    "        self.autoencoder.summary()\n",
    "\n",
    "        return\n",
    "\n",
    "    def train(self, x_train, epochs=2, batch_size=16):\n",
    "        history = self.autoencoder.fit(\n",
    "            x_train, x_train,\n",
    "            epochs=epochs,\n",
    "            batch_size=batch_size,\n",
    "            shuffle=True,\n",
    "            validation_split=0.2\n",
    "        )\n",
    "        return history"
   ]
  },
  {
   "cell_type": "code",
   "execution_count": 18,
   "metadata": {},
   "outputs": [
    {
     "data": {
      "text/plain": [
       "35"
      ]
     },
     "execution_count": 18,
     "metadata": {},
     "output_type": "execute_result"
    }
   ],
   "source": [
    "#[s.shape for s in scans]\n",
    "len([s.shape for s in scans if s.shape==(240,256,160)])"
   ]
  },
  {
   "cell_type": "code",
   "execution_count": 19,
   "metadata": {},
   "outputs": [
    {
     "data": {
      "text/plain": [
       "(97, 256, 256, 170)"
      ]
     },
     "execution_count": 19,
     "metadata": {},
     "output_type": "execute_result"
    }
   ],
   "source": [
    "scan_paths = glob.glob(\"C:/Users/PieHu/Documents/GitHub/DementiaMRI/Data/Temp/ADNI/**/*.nii\", recursive=True)\n",
    "scans = []\n",
    "target_shape = (256, 256, 170)\n",
    "\n",
    "for path in scan_paths:\n",
    "    path = path.replace(\"\\\\\",\"/\")\n",
    "    scan = nib.load(path).get_fdata()\n",
    "\n",
    "    current_shape = scan.shape\n",
    "    \n",
    "    # Calculate padding for each dimension\n",
    "    padding = [(0, max(0, target_dim - current_dim)) for current_dim, target_dim in zip(current_shape, target_shape)]\n",
    "    \n",
    "    # Apply padding\n",
    "    padded_scan = np.pad(scan, padding, mode='constant', constant_values=0)\n",
    "    \n",
    "    # Ensure the padded scan matches the target shape\n",
    "    padded_scan = padded_scan[:target_shape[0], :target_shape[1], :target_shape[2]]\n",
    "    \n",
    "    # Append to list\n",
    "    scans.append(padded_scan)\n",
    "scans = np.array(scans)\n",
    "scans.shape"
   ]
  },
  {
   "cell_type": "code",
   "execution_count": null,
   "metadata": {},
   "outputs": [
    {
     "data": {
      "text/html": [
       "<pre style=\"white-space:pre;overflow-x:auto;line-height:normal;font-family:Menlo,'DejaVu Sans Mono',consolas,'Courier New',monospace\"><span style=\"font-weight: bold\">Model: \"autoencoder\"</span>\n",
       "</pre>\n"
      ],
      "text/plain": [
       "\u001b[1mModel: \"autoencoder\"\u001b[0m\n"
      ]
     },
     "metadata": {},
     "output_type": "display_data"
    },
    {
     "data": {
      "text/html": [
       "<pre style=\"white-space:pre;overflow-x:auto;line-height:normal;font-family:Menlo,'DejaVu Sans Mono',consolas,'Courier New',monospace\">┏━━━━━━━━━━━━━━━━━━━━━━━━━━━━━━━━━┳━━━━━━━━━━━━━━━━━━━━━━━━┳━━━━━━━━━━━━━━━┓\n",
       "┃<span style=\"font-weight: bold\"> Layer (type)                    </span>┃<span style=\"font-weight: bold\"> Output Shape           </span>┃<span style=\"font-weight: bold\">       Param # </span>┃\n",
       "┡━━━━━━━━━━━━━━━━━━━━━━━━━━━━━━━━━╇━━━━━━━━━━━━━━━━━━━━━━━━╇━━━━━━━━━━━━━━━┩\n",
       "│ input_layer_4 (<span style=\"color: #0087ff; text-decoration-color: #0087ff\">InputLayer</span>)      │ (<span style=\"color: #00d7ff; text-decoration-color: #00d7ff\">None</span>, <span style=\"color: #00af00; text-decoration-color: #00af00\">256</span>, <span style=\"color: #00af00; text-decoration-color: #00af00\">256</span>, <span style=\"color: #00af00; text-decoration-color: #00af00\">170</span>)  │             <span style=\"color: #00af00; text-decoration-color: #00af00\">0</span> │\n",
       "├─────────────────────────────────┼────────────────────────┼───────────────┤\n",
       "│ encoder (<span style=\"color: #0087ff; text-decoration-color: #0087ff\">Functional</span>)            │ (<span style=\"color: #00d7ff; text-decoration-color: #00d7ff\">None</span>, <span style=\"color: #00af00; text-decoration-color: #00af00\">64</span>, <span style=\"color: #00af00; text-decoration-color: #00af00\">64</span>, <span style=\"color: #00af00; text-decoration-color: #00af00\">8</span>)      │        <span style=\"color: #00af00; text-decoration-color: #00af00\">51,304</span> │\n",
       "├─────────────────────────────────┼────────────────────────┼───────────────┤\n",
       "│ decoder (<span style=\"color: #0087ff; text-decoration-color: #0087ff\">Functional</span>)            │ (<span style=\"color: #00d7ff; text-decoration-color: #00d7ff\">None</span>, <span style=\"color: #00af00; text-decoration-color: #00af00\">256</span>, <span style=\"color: #00af00; text-decoration-color: #00af00\">256</span>, <span style=\"color: #00af00; text-decoration-color: #00af00\">170</span>)  │        <span style=\"color: #00af00; text-decoration-color: #00af00\">13,578</span> │\n",
       "└─────────────────────────────────┴────────────────────────┴───────────────┘\n",
       "</pre>\n"
      ],
      "text/plain": [
       "┏━━━━━━━━━━━━━━━━━━━━━━━━━━━━━━━━━┳━━━━━━━━━━━━━━━━━━━━━━━━┳━━━━━━━━━━━━━━━┓\n",
       "┃\u001b[1m \u001b[0m\u001b[1mLayer (type)                   \u001b[0m\u001b[1m \u001b[0m┃\u001b[1m \u001b[0m\u001b[1mOutput Shape          \u001b[0m\u001b[1m \u001b[0m┃\u001b[1m \u001b[0m\u001b[1m      Param #\u001b[0m\u001b[1m \u001b[0m┃\n",
       "┡━━━━━━━━━━━━━━━━━━━━━━━━━━━━━━━━━╇━━━━━━━━━━━━━━━━━━━━━━━━╇━━━━━━━━━━━━━━━┩\n",
       "│ input_layer_4 (\u001b[38;5;33mInputLayer\u001b[0m)      │ (\u001b[38;5;45mNone\u001b[0m, \u001b[38;5;34m256\u001b[0m, \u001b[38;5;34m256\u001b[0m, \u001b[38;5;34m170\u001b[0m)  │             \u001b[38;5;34m0\u001b[0m │\n",
       "├─────────────────────────────────┼────────────────────────┼───────────────┤\n",
       "│ encoder (\u001b[38;5;33mFunctional\u001b[0m)            │ (\u001b[38;5;45mNone\u001b[0m, \u001b[38;5;34m64\u001b[0m, \u001b[38;5;34m64\u001b[0m, \u001b[38;5;34m8\u001b[0m)      │        \u001b[38;5;34m51,304\u001b[0m │\n",
       "├─────────────────────────────────┼────────────────────────┼───────────────┤\n",
       "│ decoder (\u001b[38;5;33mFunctional\u001b[0m)            │ (\u001b[38;5;45mNone\u001b[0m, \u001b[38;5;34m256\u001b[0m, \u001b[38;5;34m256\u001b[0m, \u001b[38;5;34m170\u001b[0m)  │        \u001b[38;5;34m13,578\u001b[0m │\n",
       "└─────────────────────────────────┴────────────────────────┴───────────────┘\n"
      ]
     },
     "metadata": {},
     "output_type": "display_data"
    },
    {
     "data": {
      "text/html": [
       "<pre style=\"white-space:pre;overflow-x:auto;line-height:normal;font-family:Menlo,'DejaVu Sans Mono',consolas,'Courier New',monospace\"><span style=\"font-weight: bold\"> Total params: </span><span style=\"color: #00af00; text-decoration-color: #00af00\">64,882</span> (253.45 KB)\n",
       "</pre>\n"
      ],
      "text/plain": [
       "\u001b[1m Total params: \u001b[0m\u001b[38;5;34m64,882\u001b[0m (253.45 KB)\n"
      ]
     },
     "metadata": {},
     "output_type": "display_data"
    },
    {
     "data": {
      "text/html": [
       "<pre style=\"white-space:pre;overflow-x:auto;line-height:normal;font-family:Menlo,'DejaVu Sans Mono',consolas,'Courier New',monospace\"><span style=\"font-weight: bold\"> Trainable params: </span><span style=\"color: #00af00; text-decoration-color: #00af00\">64,882</span> (253.45 KB)\n",
       "</pre>\n"
      ],
      "text/plain": [
       "\u001b[1m Trainable params: \u001b[0m\u001b[38;5;34m64,882\u001b[0m (253.45 KB)\n"
      ]
     },
     "metadata": {},
     "output_type": "display_data"
    },
    {
     "data": {
      "text/html": [
       "<pre style=\"white-space:pre;overflow-x:auto;line-height:normal;font-family:Menlo,'DejaVu Sans Mono',consolas,'Courier New',monospace\"><span style=\"font-weight: bold\"> Non-trainable params: </span><span style=\"color: #00af00; text-decoration-color: #00af00\">0</span> (0.00 B)\n",
       "</pre>\n"
      ],
      "text/plain": [
       "\u001b[1m Non-trainable params: \u001b[0m\u001b[38;5;34m0\u001b[0m (0.00 B)\n"
      ]
     },
     "metadata": {},
     "output_type": "display_data"
    },
    {
     "name": "stdout",
     "output_type": "stream",
     "text": [
      "Epoch 1/2\n",
      "\u001b[1m3/3\u001b[0m \u001b[32m━━━━━━━━━━━━━━━━━━━━\u001b[0m\u001b[37m\u001b[0m \u001b[1m57s\u001b[0m 10s/step - loss: 12561.3184 - val_loss: 17179.4473\n",
      "Epoch 2/2\n",
      "\u001b[1m3/3\u001b[0m \u001b[32m━━━━━━━━━━━━━━━━━━━━\u001b[0m\u001b[37m\u001b[0m \u001b[1m3s\u001b[0m 841ms/step - loss: 10593.0293 - val_loss: 15202.6699\n"
     ]
    },
    {
     "data": {
      "image/png": "[encoded data removed]",
      "text/plain": [
       "<Figure size 640x480 with 1 Axes>"
      ]
     },
     "metadata": {},
     "output_type": "display_data"
    }
   ],
   "source": [
    "autoencoder = AutoEncoder3D(scans.shape[1:])\n",
    "history = autoencoder.train(scans, epochs=2, batch_size=8)\n",
    "\n",
    "# Plot the training loss\n",
    "plt.plot(history.history['loss'], label='Training Loss')\n",
    "plt.plot(history.history['val_loss'], label='Validation Loss')\n",
    "plt.legend()\n",
    "plt.show()\n"
   ]
  }
 ],
 "metadata": {
  "kernelspec": {
   "display_name": "Python 3",
   "language": "python",
   "name": "python3"
  },
  "language_info": {
   "codemirror_mode": {
    "name": "ipython",
    "version": 3
   },
   "file_extension": ".py",
   "mimetype": "text/x-python",
   "name": "python",
   "nbconvert_exporter": "python",
   "pygments_lexer": "ipython3",
   "version": "3.12.8"
  }
 },
 "nbformat": 4,
 "nbformat_minor": 2
}
